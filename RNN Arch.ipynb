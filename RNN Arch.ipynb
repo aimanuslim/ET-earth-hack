{
 "cells": [
  {
   "cell_type": "code",
   "execution_count": 38,
   "metadata": {},
   "outputs": [],
   "source": [
    "import os\n",
    "import sys\n",
    "import numpy as np\n",
    "os.environ['KERAS_BACKEND'] = \"tensorflow\"\n",
    "import keras as K\n",
    "import tensorflow as tf\n",
    "from keras.models import Sequential\n",
    "from keras.layers import Dense, Embedding, GRU, CuDNNGRU, LSTM\n",
    "from sklearn.datasets import make_regression\n",
    "from sklearn.preprocessing import StandardScaler\n",
    "import matplotlib.pyplot as plt\n",
    "import glob\n",
    "import pandas as pd\n",
    "from sklearn.metrics import explained_variance_score\n",
    "\n",
    "%matplotlib inline"
   ]
  },
  {
   "cell_type": "code",
   "execution_count": 18,
   "metadata": {},
   "outputs": [
    {
     "name": "stdout",
     "output_type": "stream",
     "text": [
      "OS:  linux\n",
      "Python:  3.5.5 |Anaconda custom (64-bit)| (default, May 13 2018, 21:12:35) \n",
      "[GCC 7.2.0]\n",
      "Keras:  2.2.4\n",
      "Numpy:  1.14.5\n",
      "Tensorflow:  1.12.0\n",
      "KERAS backend: tensorflow\n"
     ]
    }
   ],
   "source": [
    "# Force one-gpu\n",
    "os.environ[\"CUDA_VISIBLE_DEVICES\"] = \"1\"\n",
    "\n",
    "print(\"OS: \", sys.platform)\n",
    "print(\"Python: \", sys.version)\n",
    "print(\"Keras: \", K.__version__)\n",
    "print(\"Numpy: \", np.__version__)\n",
    "print(\"Tensorflow: \", tf.__version__)\n",
    "print(\"KERAS backend:\", K.backend.backend())\n"
   ]
  },
  {
   "cell_type": "code",
   "execution_count": 19,
   "metadata": {},
   "outputs": [],
   "source": [
    "file_name_list = glob.glob(\"Data/clean/*.csv\")\n",
    "\n",
    "feature_set = ['wellName','DEPT', 'BS', 'CALI', 'DENS', 'DTC', 'GR', 'NEUT', 'PEF', 'RESD', 'RESM', 'RESS', 'TVD']\n",
    "\n",
    "file_list = []\n",
    "\n",
    "for file in file_name_list:\n",
    "    df = pd.read_csv(file, index_col=None, skiprows=[1])\n",
    "    file_list.append(df[feature_set])"
   ]
  },
  {
   "cell_type": "code",
   "execution_count": 39,
   "metadata": {},
   "outputs": [],
   "source": [
    "def cross_val(clf, feature_set=['DEPT', 'BS', 'CALI', 'DENS', 'GR', 'NEUT', 'PEF', 'RESD', 'RESM', 'RESS', 'TVD']):\n",
    "    \n",
    "    wells = []\n",
    "    EVS_list = []\n",
    "\n",
    "    for i in range(len(file_list)):\n",
    "        test_df = file_list[i]\n",
    "        wells.append(test_df.iloc[0,0])\n",
    "        print('%s : %s' %(i, wells[i]))\n",
    "\n",
    "        train_list = file_list.copy()\n",
    "        train_list.pop(i)\n",
    "        train_df = pd.concat(train_list)\n",
    "\n",
    "        test_x = test_df[feature_set].values\n",
    "        test_y = test_df[['DTC']].values\n",
    "        test_y = test_y\n",
    "        \n",
    "        train_X = train_df[feature_set].values\n",
    "        train_y = train_df[['DTC']].values\n",
    "        train_y = train_y\n",
    "        \n",
    "        # feature scaling\n",
    "        scaler = StandardScaler()\n",
    "        scaler.fit_transform(train_X)\n",
    "        scaler.transform(test_x)\n",
    "        \n",
    "        yscaler = StandardScaler()\n",
    "        yscaler.fit_transform(train_y)\n",
    "        yscaler.transform(test_y)\n",
    "        \n",
    "        test_y = test_y.ravel()\n",
    "        train_y = train_y.ravel()\n",
    "\n",
    "        # training\n",
    "        mdl = clf\n",
    "        history = mdl.fit(train_X, train_y)\n",
    "\n",
    "        # testing\n",
    "        pred_y = mdl.predict(test_x)\n",
    "    \n",
    "        # error\n",
    "        abs_error = np.abs(np.subtract(test_y, pred_y))\n",
    "        \n",
    "#         plt_this(abs_error)\n",
    "#         plt_this(pred_y)\n",
    "#         plt_this(test_y)\n",
    "            \n",
    "        #EVS = history.history['mean_absolute_error']#(test_y, pred_y)\n",
    "        EVS = explained_variance_score(test_y, pred_y)\n",
    "\n",
    "        EVS_list.append(EVS)\n",
    "\n",
    "    print()\n",
    "\n",
    "    avg_EVS = np.mean(EVS_list)\n",
    "\n",
    "    for i in range(len(wells)):\n",
    "        print('Test score on %s : %s' %(wells[i], EVS_list[i]))\n",
    "\n",
    "    print()\n",
    "    print('Average algorithm mean_absolute_error score: %s' %avg_EVS)"
   ]
  },
  {
   "cell_type": "code",
   "execution_count": 40,
   "metadata": {},
   "outputs": [
    {
     "name": "stdout",
     "output_type": "stream",
     "text": [
      "_________________________________________________________________\n",
      "Layer (type)                 Output Shape              Param #   \n",
      "=================================================================\n",
      "dense_25 (Dense)             (None, 12)                144       \n",
      "_________________________________________________________________\n",
      "dense_26 (Dense)             (None, 4)                 52        \n",
      "_________________________________________________________________\n",
      "dense_27 (Dense)             (None, 1)                 5         \n",
      "=================================================================\n",
      "Total params: 201\n",
      "Trainable params: 201\n",
      "Non-trainable params: 0\n",
      "_________________________________________________________________\n"
     ]
    }
   ],
   "source": [
    "# define Deep NN Arch \n",
    "model = Sequential()\n",
    "model.add(Dense(12, input_dim =11, activation='relu'))\n",
    "model.add(Dense(4, activation='relu'))\n",
    "model.add(Dense(1, activation='linear')) # Last layer is linear here \n",
    "model.compile(loss='mae', optimizer='adam', metrics=['mse','mae'])\n",
    "model.summary()"
   ]
  },
  {
   "cell_type": "code",
   "execution_count": 41,
   "metadata": {},
   "outputs": [
    {
     "name": "stdout",
     "output_type": "stream",
     "text": [
      "0 : Cheal-G2\n",
      "Epoch 1/1\n",
      "131963/131963 [==============================] - 9s 70us/step - loss: 2803.0102 - mean_squared_error: 28000380.1860 - mean_absolute_error: 2803.0102\n",
      "1 : Cheal-B8\n",
      "Epoch 1/1\n",
      "131551/131551 [==============================] - 9s 68us/step - loss: 2594.4114 - mean_squared_error: 25866258.0657 - mean_absolute_error: 2594.4114\n",
      "2 : Cheal-C3\n",
      "Epoch 1/1\n",
      "138431/138431 [==============================] - 9s 67us/step - loss: 2453.7223 - mean_squared_error: 24465769.6725 - mean_absolute_error: 2453.7223\n",
      "3 : Cheal-A11\n",
      "Epoch 1/1\n",
      "142813/142813 [==============================] - 10s 67us/step - loss: 2399.1143 - mean_squared_error: 23916383.9674 - mean_absolute_error: 2399.1143\n",
      "4 : Cheal-C4\n",
      "Epoch 1/1\n",
      "140741/140741 [==============================] - 9s 67us/step - loss: 2434.4623 - mean_squared_error: 24265971.5712 - mean_absolute_error: 2434.4623\n",
      "5 : Cheal-G3\n",
      "Epoch 1/1\n",
      "135514/135514 [==============================] - 9s 67us/step - loss: 2297.3573 - mean_squared_error: 22890350.3653 - mean_absolute_error: 2297.3573\n",
      "6 : Cheal-A12\n",
      "Epoch 1/1\n",
      "142025/142025 [==============================] - 9s 67us/step - loss: 2413.7550 - mean_squared_error: 24048166.3517 - mean_absolute_error: 2413.7550\n",
      "7 : Cheal-A10\n",
      "Epoch 1/1\n",
      "145097/145097 [==============================] - 10s 67us/step - loss: 2530.6387 - mean_squared_error: 25209086.1929 - mean_absolute_error: 2530.6387\n",
      "8 : Cheal-G1\n",
      "Epoch 1/1\n",
      "131017/131017 [==============================] - 9s 67us/step - loss: 2295.4415 - mean_squared_error: 22855006.1906 - mean_absolute_error: 2295.4415\n",
      "\n",
      "Test score on Cheal-G2 : 0.020371076629457252\n",
      "Test score on Cheal-B8 : 0.01690836029473397\n",
      "Test score on Cheal-C3 : 0.02363349711838114\n",
      "Test score on Cheal-A11 : 0.021992692424654403\n",
      "Test score on Cheal-C4 : 0.02322602147334707\n",
      "Test score on Cheal-G3 : 0.021636539512186914\n",
      "Test score on Cheal-A12 : 0.024738662196372108\n",
      "Test score on Cheal-A10 : 0.025181007838333214\n",
      "Test score on Cheal-G1 : 0.02551169997436986\n",
      "\n",
      "Average algorithm mean_absolute_error score: 0.02257772860687066\n"
     ]
    }
   ],
   "source": [
    "cross_val(model)"
   ]
  },
  {
   "cell_type": "code",
   "execution_count": null,
   "metadata": {},
   "outputs": [],
   "source": []
  },
  {
   "cell_type": "code",
   "execution_count": 5,
   "metadata": {},
   "outputs": [
    {
     "name": "stdout",
     "output_type": "stream",
     "text": [
      "_________________________________________________________________\n",
      "Layer (type)                 Output Shape              Param #   \n",
      "=================================================================\n",
      "lstm_1 (LSTM)                (None, 32)                4864      \n",
      "_________________________________________________________________\n",
      "dense_1 (Dense)              (None, 12)                396       \n",
      "_________________________________________________________________\n",
      "dense_2 (Dense)              (None, 4)                 52        \n",
      "_________________________________________________________________\n",
      "dense_3 (Dense)              (None, 1)                 5         \n",
      "=================================================================\n",
      "Total params: 5,317\n",
      "Trainable params: 5,317\n",
      "Non-trainable params: 0\n",
      "_________________________________________________________________\n"
     ]
    }
   ],
   "source": [
    "# define and Arch \n",
    "model = Sequential()\n",
    "model.add(LSTM(32, input_shape=(1000, 5))) #50 is timesteps, 2 is the number of features we have\n",
    "model.add(Dense(12, activation='relu'))\n",
    "model.add(Dense(4, activation='relu'))\n",
    "model.add(Dense(1, activation='linear')) # Last layer is linear here \n",
    "model.compile(loss='mae', optimizer='adam', metrics=['mse','mae'])\n",
    "model.summary()"
   ]
  },
  {
   "cell_type": "code",
   "execution_count": null,
   "metadata": {},
   "outputs": [],
   "source": []
  }
 ],
 "metadata": {
  "kernelspec": {
   "display_name": "Python 3.5",
   "language": "python",
   "name": "python3"
  },
  "language_info": {
   "codemirror_mode": {
    "name": "ipython",
    "version": 3
   },
   "file_extension": ".py",
   "mimetype": "text/x-python",
   "name": "python",
   "nbconvert_exporter": "python",
   "pygments_lexer": "ipython3",
   "version": "3.5.5"
  }
 },
 "nbformat": 4,
 "nbformat_minor": 2
}
