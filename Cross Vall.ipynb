{
 "cells": [
  {
   "cell_type": "code",
   "execution_count": 262,
   "metadata": {},
   "outputs": [],
   "source": [
    "import glob\n",
    "import pandas as pd\n",
    "import numpy as np\n",
    "\n",
    "file_name_list = glob.glob(\"Data/*.csv\")\n",
    "\n",
    "feature_set = ['wellName','DEPT', 'BS', 'CALI', 'DENS', 'DTC', 'GR', 'NEUT', 'PEF', 'RESD', 'RESM', 'RESS', 'TVD']\n",
    "\n",
    "file_list = []\n",
    "\n",
    "for file in file_name_list:\n",
    "    df = pd.read_csv(file, index_col=None, skiprows=[1])\n",
    "    file_list.append(df[feature_set])"
   ]
  },
  {
   "cell_type": "markdown",
   "metadata": {},
   "source": [
    "# Algo 1"
   ]
  },
  {
   "cell_type": "code",
   "execution_count": 266,
   "metadata": {},
   "outputs": [
    {
     "name": "stdout",
     "output_type": "stream",
     "text": [
      "Test error on Cheal-A12 : 0.99\n",
      "Test error on Cheal-G3 : 0.99\n",
      "Test error on Cheal-B8 : 0.99\n",
      "Test error on Cheal-G2 : 0.99\n",
      "Test error on Cheal-A10 : 0.99\n",
      "Test error on Cheal-C3 : 0.99\n",
      "Test error on Cheal-G1 : 0.99\n",
      "Test error on Cheal-A11 : 0.99\n",
      "Test error on Cheal-C4 : 0.99\n",
      "\n",
      "Average algorithm error: 0.99\n"
     ]
    }
   ],
   "source": [
    "feature_set = ['DEPT', 'BS', 'CALI', 'DENS', 'GR', 'NEUT', 'PEF', 'RESD', 'RESM', 'RESS', 'TVD']\n",
    "\n",
    "wells = []\n",
    "MVE_list = []\n",
    "    \n",
    "for i in range(len(file_list)):\n",
    "    test_df = file_list[i]\n",
    "    wells.append(test_df.iloc[0,0])\n",
    "    \n",
    "    train_list = file_list.copy()\n",
    "    train_list.pop(i)\n",
    "    train_df = pd.concat(train_list)\n",
    "    \n",
    "    test_x = test_df[feature_set].values\n",
    "    test_y = test_df[['DTC']].values\n",
    "    \n",
    "    train_X = train_df[feature_set].values\n",
    "    train_y = train_df[['DTC']].values\n",
    "\n",
    "    \n",
    "      \n",
    "    # feature scaling\n",
    "    \n",
    "    # training\n",
    "    \n",
    "    # testing\n",
    "    MVE = .99\n",
    "    \n",
    "    \n",
    "    \n",
    "    MVE_list.append(MVE)\n",
    "\n",
    "avg_MVE = np.mean(MVE_list)\n",
    "\n",
    "for i in range(len(wells)):\n",
    "    print('Test error on %s : %s' %(wells[i], MVE_list[i]))\n",
    "\n",
    "print()\n",
    "print('Average algorithm error: %s' %avg_MVE)\n"
   ]
  },
  {
   "cell_type": "code",
   "execution_count": null,
   "metadata": {},
   "outputs": [],
   "source": []
  },
  {
   "cell_type": "code",
   "execution_count": null,
   "metadata": {},
   "outputs": [],
   "source": []
  }
 ],
 "metadata": {
  "kernelspec": {
   "display_name": "Python 3",
   "language": "python",
   "name": "python3"
  },
  "language_info": {
   "codemirror_mode": {
    "name": "ipython",
    "version": 3
   },
   "file_extension": ".py",
   "mimetype": "text/x-python",
   "name": "python",
   "nbconvert_exporter": "python",
   "pygments_lexer": "ipython3",
   "version": "3.6.4"
  }
 },
 "nbformat": 4,
 "nbformat_minor": 2
}
