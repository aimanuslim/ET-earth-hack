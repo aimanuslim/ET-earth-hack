{
 "cells": [
  {
   "cell_type": "code",
   "execution_count": 1,
   "metadata": {},
   "outputs": [
    {
     "name": "stderr",
     "output_type": "stream",
     "text": [
      "/anaconda/envs/py35/lib/python3.5/site-packages/h5py/__init__.py:36: FutureWarning: Conversion of the second argument of issubdtype from `float` to `np.floating` is deprecated. In future, it will be treated as `np.float64 == np.dtype(float).type`.\n",
      "  from ._conv import register_converters as _register_converters\n",
      "Using TensorFlow backend.\n"
     ]
    }
   ],
   "source": [
    "import os\n",
    "import sys\n",
    "import numpy as np\n",
    "import pandas as pd\n",
    "os.environ['KERAS_BACKEND'] = \"tensorflow\"\n",
    "import keras as K\n",
    "import tensorflow as tf\n",
    "from keras.models import Sequential\n",
    "from keras.layers import Dense, Embedding, GRU, CuDNNGRU, LSTM\n",
    "from sklearn.datasets import make_regression\n",
    "import matplotlib.pyplot as plt\n",
    "import glob\n",
    "from sklearn.preprocessing import StandardScaler\n",
    "from sklearn.metrics import explained_variance_score\n",
    "from sklearn.linear_model import BayesianRidge, LinearRegression\n",
    "from sklearn.svm import SVR\n",
    "\n",
    "%matplotlib inline"
   ]
  },
  {
   "cell_type": "markdown",
   "metadata": {},
   "source": [
    "# Reading the files and modeling the data"
   ]
  },
  {
   "cell_type": "code",
   "execution_count": 2,
   "metadata": {},
   "outputs": [],
   "source": [
    "\n",
    "file_name_list = glob.glob(\"Data/clean/*.csv\")\n",
    "\n",
    "feature_set = ['wellName','DEPT', 'BS', 'CALI', 'DENS', 'DTC', 'GR', 'NEUT', 'PEF', 'RESD', 'RESM', 'RESS', 'TVD']\n",
    "\n",
    "file_list = []\n",
    "\n",
    "for file in file_name_list:\n",
    "    df = pd.read_csv(file, index_col=None, skiprows=[1])\n",
    "    file_list.append(df[feature_set])"
   ]
  },
  {
   "cell_type": "markdown",
   "metadata": {},
   "source": [
    "# Deep learning network"
   ]
  },
  {
   "cell_type": "code",
   "execution_count": 3,
   "metadata": {},
   "outputs": [
    {
     "name": "stdout",
     "output_type": "stream",
     "text": [
      "_________________________________________________________________\n",
      "Layer (type)                 Output Shape              Param #   \n",
      "=================================================================\n",
      "dense_1 (Dense)              (None, 4)                 24        \n",
      "_________________________________________________________________\n",
      "dense_2 (Dense)              (None, 4)                 20        \n",
      "_________________________________________________________________\n",
      "dense_3 (Dense)              (None, 1)                 5         \n",
      "=================================================================\n",
      "Total params: 49\n",
      "Trainable params: 49\n",
      "Non-trainable params: 0\n",
      "_________________________________________________________________\n"
     ]
    }
   ],
   "source": [
    "# define and Arch \n",
    "model = Sequential()\n",
    "model.add(Dense(4, input_dim=5, activation='relu'))\n",
    "model.add(Dense(4, activation='relu'))\n",
    "model.add(Dense(1, activation='linear')) # Last layer is linear here \n",
    "model.compile(loss='mae', optimizer='adam', metrics=['mse','mae'])\n",
    "model.summary()"
   ]
  },
  {
   "cell_type": "code",
   "execution_count": 4,
   "metadata": {},
   "outputs": [],
   "source": [
    "\n",
    "def cross_val(clf, feature_set=['DEPT', 'BS', 'CALI', 'DENS', 'GR', 'NEUT', 'PEF', 'RESD', 'RESM', 'RESS', 'TVD']):\n",
    "    \n",
    "    wells = []\n",
    "    EVS_list = []\n",
    "\n",
    "    for i in range(len(file_list)):\n",
    "        test_df = file_list[i]\n",
    "        wells.append(test_df.iloc[0,0])\n",
    "        print('%s : %s' %(i, wells[i]))\n",
    "\n",
    "        train_list = file_list.copy()\n",
    "        train_list.pop(i)\n",
    "        train_df = pd.concat(train_list)\n",
    "\n",
    "        test_x = test_df[feature_set].values\n",
    "        test_y = test_df[['DTC']].values\n",
    "        test_y = test_y.ravel()\n",
    "        \n",
    "        train_X = train_df[feature_set].values\n",
    "        train_y = train_df[['DTC']].values\n",
    "        train_y = train_y.ravel()\n",
    "        \n",
    "        # feature scaling\n",
    "        scaler = StandardScaler()\n",
    "        scaler.fit_transform(train_X)\n",
    "        scaler.transform(test_x)\n",
    "\n",
    "        # training\n",
    "        mdl = clf\n",
    "        mdl.fit(train_X, train_y)\n",
    "\n",
    "        # testing\n",
    "        pred_y = mdl.predict(test_x)\n",
    "    \n",
    "        # error\n",
    "        abs_error = np.abs(np.subtract(test_y, pred_y))\n",
    "        \n",
    "#         plt_this(abs_error)\n",
    "#         plt_this(pred_y)\n",
    "#         plt_this(test_y)\n",
    "            \n",
    "        EVS = explained_variance_score(test_y, pred_y)\n",
    "\n",
    "        EVS_list.append(EVS)\n",
    "\n",
    "    print()\n",
    "\n",
    "    avg_EVS = np.mean(EVS_list)\n",
    "\n",
    "    for i in range(len(wells)):\n",
    "        print('Test score on %s : %s' %(wells[i], EVS_list[i]))\n",
    "\n",
    "    print()\n",
    "    print('Average algorithm score: %s' %avg_EVS)"
   ]
  },
  {
   "cell_type": "code",
   "execution_count": 5,
   "metadata": {},
   "outputs": [],
   "source": [
    "names = [\"Support Victor Regressor\", \"Bayesian Ridge Regressor\", \"Linear Regressor\"]\n",
    "\n",
    "classifiers = [\n",
    "    SVR(kernel='linear', C=1e3),\n",
    "    BayesianRidge(compute_score=True),\n",
    "    LinearRegression()]\n"
   ]
  },
  {
   "cell_type": "code",
   "execution_count": null,
   "metadata": {},
   "outputs": [
    {
     "name": "stdout",
     "output_type": "stream",
     "text": [
      "Support Victor Regressor \n",
      "\n",
      "0 : Cheal-G2\n"
     ]
    }
   ],
   "source": [
    "feature_set = ['DEPT', 'BS', 'CALI', 'DENS', 'RESD', 'RESM']\n",
    "#feature_set = ['DEPT', 'BS', 'CALI', 'DENS', 'GR', 'NEUT', 'PEF', 'RESD', 'RESM', 'RESS', 'TVD']\n",
    "for clf, name in zip(classifiers, names):\n",
    "    print(name,'\\n')\n",
    "    cross_val(clf, feature_set)"
   ]
  },
  {
   "cell_type": "code",
   "execution_count": null,
   "metadata": {},
   "outputs": [],
   "source": [
    "from sklearn.linear_model import LinearRegression\n",
    "\n",
    "#feature_set = ['DEPT', 'BS', 'CALI', 'DENS', 'GR', 'NEUT', 'PEF', 'RESD', 'RESM', 'RESS', 'TVD'] #-8.0057\n",
    "feature_set = ['DEPT', 'BS', 'CALI', 'DENS', 'RESD', 'RESM'] #0.372\n",
    "\n",
    "cross_val(LinearRegression, feature_set)"
   ]
  },
  {
   "cell_type": "code",
   "execution_count": null,
   "metadata": {},
   "outputs": [],
   "source": []
  }
 ],
 "metadata": {
  "kernelspec": {
   "display_name": "Python 3.5",
   "language": "python",
   "name": "python3"
  },
  "language_info": {
   "codemirror_mode": {
    "name": "ipython",
    "version": 3
   },
   "file_extension": ".py",
   "mimetype": "text/x-python",
   "name": "python",
   "nbconvert_exporter": "python",
   "pygments_lexer": "ipython3",
   "version": "3.5.5"
  }
 },
 "nbformat": 4,
 "nbformat_minor": 2
}
