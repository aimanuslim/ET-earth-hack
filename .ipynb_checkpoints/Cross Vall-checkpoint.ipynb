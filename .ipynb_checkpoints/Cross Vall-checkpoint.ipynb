{
 "cells": [
  {
   "cell_type": "code",
   "execution_count": 13,
   "metadata": {},
   "outputs": [],
   "source": [
    "import glob\n",
    "import pandas as pd\n",
    "import numpy as np\n",
    "\n",
    "file_name_list = glob.glob(\"Data/*.csv\")\n",
    "\n",
    "feature_set = ['wellName','DEPT', 'BS', 'CALI', 'DENS', 'DTC', 'GR', 'NEUT', 'PEF', 'RESD', 'RESM', 'RESS', 'TVD']\n",
    "\n",
    "file_list = []\n",
    "\n",
    "for file in file_name_list:\n",
    "    df = pd.read_csv(file, index_col=None, skiprows=[1])\n",
    "    file_list.append(df[feature_set])"
   ]
  },
  {
   "cell_type": "code",
   "execution_count": 14,
   "metadata": {},
   "outputs": [],
   "source": [
    "import matplotlib.pyplot as plt\n",
    "\n",
    "def plt_this(y):\n",
    "    plt.plot(y)\n",
    "    plt.show()\n"
   ]
  },
  {
   "cell_type": "code",
   "execution_count": 15,
   "metadata": {},
   "outputs": [],
   "source": [
    "from sklearn.preprocessing import StandardScaler\n",
    "from sklearn.metrics import explained_variance_score\n",
    "\n",
    "def cross_val(clf, feature_set=['DEPT', 'BS', 'CALI', 'DENS', 'GR', 'NEUT', 'PEF', 'RESD', 'RESM', 'RESS', 'TVD']):\n",
    "    \n",
    "    wells = []\n",
    "    EVS_list = []\n",
    "\n",
    "    for i in range(len(file_list)):\n",
    "        test_df = file_list[i]\n",
    "        wells.append(test_df.iloc[0,0])\n",
    "        print('%s : %s' %(i, wells[i]))\n",
    "\n",
    "        train_list = file_list.copy()\n",
    "        train_list.pop(i)\n",
    "        train_df = pd.concat(train_list)\n",
    "\n",
    "        test_x = test_df[feature_set].values\n",
    "        test_y = test_df[['DTC']].values\n",
    "        test_y = test_y.ravel()\n",
    "        \n",
    "        train_X = train_df[feature_set].values\n",
    "        train_y = train_df[['DTC']].values\n",
    "        train_y = train_y.ravel()\n",
    "        \n",
    "        # feature scaling\n",
    "        scaler = StandardScaler()\n",
    "        scaler.fit_transform(train_X)\n",
    "        scaler.transform(test_x)\n",
    "\n",
    "        # training\n",
    "        mdl = clf()\n",
    "        mdl.fit(train_X, train_y)\n",
    "\n",
    "        # testing\n",
    "        pred_y = mdl.predict(test_x)\n",
    "    \n",
    "        # error\n",
    "        abs_error = np.abs(np.subtract(test_y, pred_y))\n",
    "        \n",
    "#         plt_this(abs_error)\n",
    "#         plt_this(pred_y)\n",
    "#         plt_this(test_y)\n",
    "            \n",
    "        EVS = explained_variance_score(test_y, pred_y)\n",
    "\n",
    "        EVS_list.append(EVS)\n",
    "\n",
    "    print()\n",
    "\n",
    "    avg_EVS = np.mean(EVS_list)\n",
    "\n",
    "    for i in range(len(wells)):\n",
    "        print('Test score on %s : %s' %(wells[i], EVS_list[i]))\n",
    "\n",
    "    print()\n",
    "    print('Average algorithm score: %s' %avg_EVS)\n"
   ]
  },
  {
   "cell_type": "markdown",
   "metadata": {},
   "source": [
    "# Linear regression"
   ]
  },
  {
   "cell_type": "code",
   "execution_count": 16,
   "metadata": {},
   "outputs": [
    {
     "name": "stdout",
     "output_type": "stream",
     "text": [
      "0 : Cheal-A12\n",
      "1 : Cheal-G3\n",
      "2 : Cheal-B8\n",
      "3 : Cheal-G2\n",
      "4 : Cheal-A10\n",
      "5 : Cheal-C3\n",
      "6 : Cheal-G1\n",
      "7 : Cheal-A11\n",
      "8 : Cheal-C4\n",
      "\n",
      "Test score on Cheal-A12 : 0.8054140968683544\n",
      "Test score on Cheal-G3 : 0.8073261507958926\n",
      "Test score on Cheal-B8 : 0.829507105464267\n",
      "Test score on Cheal-G2 : 0.773382836198768\n",
      "Test score on Cheal-A10 : 0.7085514002445874\n",
      "Test score on Cheal-C3 : 0.7756180871691959\n",
      "Test score on Cheal-G1 : 0.7692246246853904\n",
      "Test score on Cheal-A11 : -2.8806147904246475\n",
      "Test score on Cheal-C4 : 0.7567044659325725\n",
      "\n",
      "Average algorithm score: 0.3716793307704867\n"
     ]
    }
   ],
   "source": [
    "from sklearn.linear_model import LinearRegression\n",
    "\n",
    "#feature_set = ['DEPT', 'BS', 'CALI', 'DENS', 'GR', 'NEUT', 'PEF', 'RESD', 'RESM', 'RESS', 'TVD'] #-8.0057\n",
    "feature_set = ['DEPT', 'BS', 'CALI', 'DENS', 'RESD', 'RESM'] #0.372\n",
    "\n",
    "cross_val(LinearRegression, feature_set)"
   ]
  },
  {
   "cell_type": "markdown",
   "metadata": {},
   "source": [
    "# Random Forrest"
   ]
  },
  {
   "cell_type": "code",
   "execution_count": 17,
   "metadata": {
    "scrolled": true
   },
   "outputs": [
    {
     "name": "stdout",
     "output_type": "stream",
     "text": [
      "0 : Cheal-A12\n",
      "1 : Cheal-G3\n",
      "2 : Cheal-B8\n",
      "3 : Cheal-G2\n",
      "4 : Cheal-A10\n",
      "5 : Cheal-C3\n",
      "6 : Cheal-G1\n",
      "7 : Cheal-A11\n",
      "8 : Cheal-C4\n",
      "\n",
      "Test score on Cheal-A12 : 0.8414483257665761\n",
      "Test score on Cheal-G3 : 0.7714969883237915\n",
      "Test score on Cheal-B8 : 0.9101104984631044\n",
      "Test score on Cheal-G2 : 0.8488049156792641\n",
      "Test score on Cheal-A10 : 0.797881725509555\n",
      "Test score on Cheal-C3 : 0.7701287897111151\n",
      "Test score on Cheal-G1 : 0.7394462021394268\n",
      "Test score on Cheal-A11 : 0.8695679397945291\n",
      "Test score on Cheal-C4 : 0.7898107998219932\n",
      "\n",
      "Average algorithm score: 0.815410687245484\n"
     ]
    }
   ],
   "source": [
    "from sklearn.ensemble import RandomForestRegressor\n",
    "\n",
    "feature_set = ['DEPT', 'BS', 'CALI', 'DENS', 'GR', 'NEUT', 'PEF', 'RESD', 'RESM', 'RESS', 'TVD'] #0.826\n",
    "\n",
    "cross_val(RandomForestRegressor, feature_set)"
   ]
  },
  {
   "cell_type": "markdown",
   "metadata": {},
   "source": [
    "# Gradient Boosting"
   ]
  },
  {
   "cell_type": "code",
   "execution_count": 18,
   "metadata": {},
   "outputs": [
    {
     "name": "stdout",
     "output_type": "stream",
     "text": [
      "0 : Cheal-A12\n",
      "1 : Cheal-G3\n",
      "2 : Cheal-B8\n",
      "3 : Cheal-G2\n",
      "4 : Cheal-A10\n",
      "5 : Cheal-C3\n",
      "6 : Cheal-G1\n",
      "7 : Cheal-A11\n",
      "8 : Cheal-C4\n",
      "\n",
      "Test score on Cheal-A12 : 0.869651436814493\n",
      "Test score on Cheal-G3 : 0.9161232033583621\n",
      "Test score on Cheal-B8 : 0.9400560835144331\n",
      "Test score on Cheal-G2 : 0.8829217106854859\n",
      "Test score on Cheal-A10 : 0.8634938503050312\n",
      "Test score on Cheal-C3 : 0.832434532004398\n",
      "Test score on Cheal-G1 : 0.7891882784221713\n",
      "Test score on Cheal-A11 : 0.9187090283541512\n",
      "Test score on Cheal-C4 : 0.8342474023106184\n",
      "\n",
      "Average algorithm score: 0.8718695028632383\n"
     ]
    }
   ],
   "source": [
    "from lightgbm import LGBMRegressor\n",
    "\n",
    "feature_set = ['DEPT', 'BS', 'CALI', 'DENS', 'GR', 'NEUT', 'PEF', 'RESD', 'RESM', 'RESS', 'TVD'] #0.872\n",
    "\n",
    "cross_val(LGBMRegressor, feature_set)"
   ]
  },
  {
   "cell_type": "markdown",
   "metadata": {},
   "source": [
    "# SVR"
   ]
  },
  {
   "cell_type": "code",
   "execution_count": null,
   "metadata": {},
   "outputs": [
    {
     "name": "stdout",
     "output_type": "stream",
     "text": [
      "0 : Cheal-A12\n"
     ]
    }
   ],
   "source": [
    "from sklearn.svm import SVR\n",
    "\n",
    "feature_set = ['DEPT', 'BS', 'CALI', 'DENS', 'GR', 'NEUT', 'PEF', 'RESD', 'RESM', 'RESS', 'TVD']\n",
    "\n",
    "cross_val(SVR, feature_set)"
   ]
  },
  {
   "cell_type": "markdown",
   "metadata": {},
   "source": [
    "# LSTM"
   ]
  },
  {
   "cell_type": "markdown",
   "metadata": {},
   "source": [
    "# Deep NN (2 layer)"
   ]
  },
  {
   "cell_type": "code",
   "execution_count": null,
   "metadata": {},
   "outputs": [],
   "source": []
  }
 ],
 "metadata": {
  "kernelspec": {
   "display_name": "Python 3",
   "language": "python",
   "name": "python3"
  },
  "language_info": {
   "codemirror_mode": {
    "name": "ipython",
    "version": 3
   },
   "file_extension": ".py",
   "mimetype": "text/x-python",
   "name": "python",
   "nbconvert_exporter": "python",
   "pygments_lexer": "ipython3",
   "version": "3.6.4"
  }
 },
 "nbformat": 4,
 "nbformat_minor": 2
}
